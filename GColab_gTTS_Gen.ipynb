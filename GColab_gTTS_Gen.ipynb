{
  "nbformat": 4,
  "nbformat_minor": 0,
  "metadata": {
    "colab": {
      "name": "GColab-gTTS-Gen.ipynb",
      "provenance": [],
      "authorship_tag": "ABX9TyPeDWR6onM5uIS3CPjskK9m",
      "include_colab_link": true
    },
    "kernelspec": {
      "name": "python3",
      "display_name": "Python 3"
    },
    "language_info": {
      "name": "python"
    }
  },
  "cells": [
    {
      "cell_type": "markdown",
      "metadata": {
        "id": "view-in-github",
        "colab_type": "text"
      },
      "source": [
        "<a href=\"https://colab.research.google.com/github/BoszGTec/GColab-gTTS-Gen/blob/main/GColab_gTTS_Gen.ipynb\" target=\"_parent\"><img src=\"https://colab.research.google.com/assets/colab-badge.svg\" alt=\"Open In Colab\"/></a>"
      ]
    },
    {
      "cell_type": "code",
      "execution_count": 15,
      "metadata": {
        "colab": {
          "base_uri": "https://localhost:8080/"
        },
        "cellView": "form",
        "id": "WR_6cDlyLHDA",
        "outputId": "ab14cbf6-f752-4166-f21d-b87effbc2b81"
      },
      "outputs": [
        {
          "output_type": "stream",
          "name": "stdout",
          "text": [
            "Requirement already satisfied: gtts in /usr/local/lib/python3.7/dist-packages (2.2.3)\n",
            "Requirement already satisfied: requests in /usr/local/lib/python3.7/dist-packages (from gtts) (2.23.0)\n",
            "Requirement already satisfied: click in /usr/local/lib/python3.7/dist-packages (from gtts) (7.1.2)\n",
            "Requirement already satisfied: six in /usr/local/lib/python3.7/dist-packages (from gtts) (1.15.0)\n",
            "Requirement already satisfied: idna<3,>=2.5 in /usr/local/lib/python3.7/dist-packages (from requests->gtts) (2.10)\n",
            "Requirement already satisfied: chardet<4,>=3.0.2 in /usr/local/lib/python3.7/dist-packages (from requests->gtts) (3.0.4)\n",
            "Requirement already satisfied: certifi>=2017.4.17 in /usr/local/lib/python3.7/dist-packages (from requests->gtts) (2021.10.8)\n",
            "Requirement already satisfied: urllib3!=1.25.0,!=1.25.1,<1.26,>=1.21.1 in /usr/local/lib/python3.7/dist-packages (from requests->gtts) (1.24.3)\n"
          ]
        }
      ],
      "source": [
        "#@title <font color=\"yellow\" size=6><< Install gtts Lb 📚 </font>\n",
        "!pip install gtts"
      ]
    },
    {
      "cell_type": "code",
      "source": [
        "#@title <font color=\"yellow\" size=6><< GColab-gTTS-Gen 🔉</font>\n",
        "Text = \"Hello\" #@param {type:\"string\"}\n",
        "Lang = \"th\" #@param [\"en\", \"th\"]\n",
        "from gtts import gTTS\n",
        "import os\n",
        "import time\n",
        "from IPython import display\n",
        "\n",
        "try :\n",
        "  os.mkdir(\"source-output\")\n",
        "except :\n",
        "  print(\"\")\n",
        "\n",
        "time.sleep(0.5)\n",
        "%cd 'source-output'\n",
        "\n",
        "au=gTTS(text=Text,lang=Lang)\n",
        "au.save(\"output.mp3\")\n",
        "\n",
        "display.clear_output()\n",
        "display.Audio(\"output.mp3\")"
      ],
      "metadata": {
        "colab": {
          "base_uri": "https://localhost:8080/",
          "height": 74
        },
        "cellView": "form",
        "id": "ucrX4TdnLOO4",
        "outputId": "8a6b648f-b438-4b68-82fc-d3120755f341"
      },
      "execution_count": 16,
      "outputs": [
        {
          "output_type": "execute_result",
          "data": {
            "text/html": [
              "\n",
              "                <audio controls=\"controls\" >\n",
              "                    <source src=\"data:audio/mpeg;base64,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\" type=\"audio/mpeg\" />\n",
              "                    Your browser does not support the audio element.\n",
              "                </audio>\n",
              "              "
            ],
            "text/plain": [
              "<IPython.lib.display.Audio object>"
            ]
          },
          "metadata": {},
          "execution_count": 16
        }
      ]
    }
  ]
}