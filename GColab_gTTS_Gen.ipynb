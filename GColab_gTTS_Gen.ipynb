{
  "nbformat": 4,
  "nbformat_minor": 0,
  "metadata": {
    "colab": {
      "name": "GColab-gTTS-Gen.ipynb",
      "provenance": [],
      "authorship_tag": "ABX9TyOTbXocaHuvgYuH4vNKguby",
      "include_colab_link": true
    },
    "kernelspec": {
      "name": "python3",
      "display_name": "Python 3"
    },
    "language_info": {
      "name": "python"
    }
  },
  "cells": [
    {
      "cell_type": "markdown",
      "metadata": {
        "id": "view-in-github",
        "colab_type": "text"
      },
      "source": [
        "<a href=\"https://colab.research.google.com/github/BoszGTec/GColab-gTTS-Gen/blob/main/GColab_gTTS_Gen.ipynb\" target=\"_parent\"><img src=\"https://colab.research.google.com/assets/colab-badge.svg\" alt=\"Open In Colab\"/></a>"
      ]
    },
    {
      "cell_type": "code",
      "execution_count": null,
      "metadata": {
        "cellView": "form",
        "id": "WR_6cDlyLHDA"
      },
      "outputs": [],
      "source": [
        "#@title <font color=\"yellow\" size=6><< Install gtts Lb 📚 </font>\n",
        "!pip install gtts"
      ]
    },
    {
      "cell_type": "code",
      "source": [
        "#@title <font color=\"yellow\" size=6><< GColab-gTTS-Gen 🔉</font>\n",
        "Text = \"\\u0E2A\\u0E27\\u0E31\\u0E2A\\u0E14\\u0E35\" #@param {type:\"string\"}\n",
        "Lang = \"th\" #@param [\"en\", \"th\"]\n",
        "from gtts import gTTS\n",
        "import os\n",
        "import time\n",
        "from IPython import display\n",
        "\n",
        "try :\n",
        "  os.mkdir(\"source-output\")\n",
        "except :\n",
        "  print(\"\")\n",
        "\n",
        "time.sleep(0.5)\n",
        "%cd 'source-output'\n",
        "\n",
        "au=gTTS(text=Text,lang=Lang)\n",
        "au.save(\"output.mp3\")\n",
        "\n",
        "display.clear_output()\n",
        "display.Audio(\"output.mp3\")"
      ],
      "metadata": {
        "cellView": "form",
        "id": "ucrX4TdnLOO4"
      },
      "execution_count": null,
      "outputs": []
    },
    {
      "cell_type": "code",
      "source": [
        "#@title <font color=\"yellow\" size=6><< Download .mp3 ⬇️</font>\n",
        "\n",
        "from google.colab import files\n",
        "files.download('output.mp3')"
      ],
      "metadata": {
        "cellView": "form",
        "id": "2yYNF3i6NTqo"
      },
      "execution_count": null,
      "outputs": []
    }
  ]
}