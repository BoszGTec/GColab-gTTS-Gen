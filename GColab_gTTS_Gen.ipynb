{
  "nbformat": 4,
  "nbformat_minor": 0,
  "metadata": {
    "colab": {
      "name": "GColab-gTTS-Gen.ipynb",
      "provenance": [],
      "authorship_tag": "ABX9TyPeDWR6onM5uIS3CPjskK9m",
      "include_colab_link": true
    },
    "kernelspec": {
      "name": "python3",
      "display_name": "Python 3"
    },
    "language_info": {
      "name": "python"
    }
  },
  "cells": [
    {
      "cell_type": "markdown",
      "metadata": {
        "id": "view-in-github",
        "colab_type": "text"
      },
      "source": [
        "<a href=\"https://colab.research.google.com/github/BoszGTec/GColab-gTTS-Gen/blob/main/GColab_gTTS_Gen.ipynb\" target=\"_parent\"><img src=\"https://colab.research.google.com/assets/colab-badge.svg\" alt=\"Open In Colab\"/></a>"
      ]
    },
    {
      "cell_type": "code",
      "execution_count": 15,
      "metadata": {
        "colab": {
          "base_uri": "https://localhost:8080/"
        },
        "cellView": "form",
        "id": "WR_6cDlyLHDA",
        "outputId": "ab14cbf6-f752-4166-f21d-b87effbc2b81"
      },
      "outputs": [
        {
          "output_type": "stream",
          "name": "stdout",
          "text": [
            ""
          ]
        }
      ],
      "source": [
        "#@title <font color=\"yellow\" size=6><< Install gtts Lb 📚 </font>\n",
        "!pip install gtts"
      ]
    },
    {
      "cell_type": "code",
      "source": [
        "#@title <font color=\"yellow\" size=6><< GColab-gTTS-Gen 🔉</font>\n",
        "Text = \"Hello\" #@param {type:\"string\"}\n",
        "Lang = \"th\" #@param [\"en\", \"th\"]\n",
        "from gtts import gTTS\n",
        "import os\n",
        "import time\n",
        "from IPython import display\n",
        "\n",
        "try :\n",
        "  os.mkdir(\"source-output\")\n",
        "except :\n",
        "  print(\"\")\n",
        "\n",
        "time.sleep(0.5)\n",
        "%cd 'source-output'\n",
        "\n",
        "au=gTTS(text=Text,lang=Lang)\n",
        "au.save(\"output.mp3\")\n",
        "\n",
        "display.clear_output()\n",
        "display.Audio(\"output.mp3\")"
      ],
      "metadata": {
        "colab": {
          "base_uri": "https://localhost:8080/",
          "height": 74
        },
        "cellView": "form",
        "id": "ucrX4TdnLOO4",
        "outputId": "8a6b648f-b438-4b68-82fc-d3120755f341"
      },
      "execution_count": 16,
      "outputs": [
        {
          "output_type": "execute_result",
          "data": {
            "text/html": [
              ""
            ],
            "text/plain": [
              "<IPython.lib.display.Audio object>"
            ]
          },
          "metadata": {},
          "execution_count": 16
        }
      ]
    }
  ]
}
